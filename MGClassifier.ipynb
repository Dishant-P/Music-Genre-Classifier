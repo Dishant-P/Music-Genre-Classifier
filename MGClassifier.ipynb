{
 "cells": [
  {
   "cell_type": "code",
   "execution_count": 1,
   "metadata": {
    "collapsed": true
   },
   "outputs": [],
   "source": [
    "import librosa\n",
    "import pandas as pd\n",
    "import numpy as np\n",
    "import matplotlib.pyplot as plt\n",
    "%matplotlib inline\n",
    "import os\n",
    "from PIL import Image\n",
    "import pathlib\n",
    "import csv\n",
    "import warnings\n",
    "warnings.filterwarnings('ignore')"
   ]
  },
  {
   "cell_type": "code",
   "execution_count": null,
   "metadata": {
    "collapsed": true
   },
   "outputs": [],
   "source": [
    "cmap = plt.get_cmap('inferno')\n",
    "\n",
    "plt.figure(figsize=(10,10))\n",
    "genres = 'blues classical country disco hiphop jazz metal pop reggae rock'.split()\n",
    "for g in genres:\n",
    "    pathlib.Path(f'img_data/{g}').mkdir(parents=True, exist_ok=True)     \n",
    "    for filename in os.listdir(f'genres/{g}'):\n",
    "        songname = f'genres/{g}/{filename}'\n",
    "        y, sr = librosa.load(songname, mono=True, duration=5)\n",
    "        plt.specgram(y, NFFT=2048, Fs=2, Fc=0, noverlap=128, cmap=cmap, sides='default', mode='default', scale='dB');\n",
    "        plt.axis('off');\n",
    "        plt.savefig(f'img_data/{g}/{filename[:-3].replace(\".\", \"\")}.png')\n",
    "        plt.clf()"
   ]
  },
  {
   "cell_type": "code",
   "execution_count": 2,
   "metadata": {
    "collapsed": true
   },
   "outputs": [],
   "source": [
    "header = 'filename chroma_stft rmse spectral_centroid spectral_bandwidth rolloff zero_crossing_rate'\n",
    "for i in range(1, 21):\n",
    "    header += f' mfcc{i}'\n",
    "header += ' label'\n",
    "header = header.split()"
   ]
  },
  {
   "cell_type": "code",
   "execution_count": null,
   "metadata": {
    "collapsed": true
   },
   "outputs": [],
   "source": [
    "file = open('data.csv', 'w', newline='')\n",
    "with file:\n",
    "    writer = csv.writer(file)\n",
    "    writer.writerow(header)\n",
    "genres = 'blues classical country disco hiphop jazz metal pop reggae rock'.split()\n",
    "for g in genres:\n",
    "    for filename in os.listdir(f'./MIR/genres/{g}'):\n",
    "        songname = f'./MIR/genres/{g}/{filename}'\n",
    "        y, sr = librosa.load(songname, mono=True, duration=30)\n",
    "        chroma_stft = librosa.feature.chroma_stft(y=y, sr=sr)\n",
    "        spec_cent = librosa.feature.spectral_centroid(y=y, sr=sr)\n",
    "        spec_bw = librosa.feature.spectral_bandwidth(y=y, sr=sr)\n",
    "        rolloff = librosa.feature.spectral_rolloff(y=y, sr=sr)\n",
    "        zcr = librosa.feature.zero_crossing_rate(y)\n",
    "        mfcc = librosa.feature.mfcc(y=y, sr=sr)\n",
    "        to_append = f'{filename} {np.mean(chroma_stft)} {np.mean(rmse)} {np.mean(spec_cent)} {np.mean(spec_bw)} {np.mean(rolloff)} {np.mean(zcr)}'    \n",
    "        for e in mfcc:\n",
    "            to_append += f' {np.mean(e)}'\n",
    "        to_append += f' {g}'\n",
    "        file = open('data.csv', 'a', newline='')\n",
    "        with file:\n",
    "            writer = csv.writer(file)\n",
    "            writer.writerow(to_append.split())"
   ]
  },
  {
   "cell_type": "code",
   "execution_count": 3,
   "metadata": {
    "collapsed": true
   },
   "outputs": [],
   "source": [
    "data = pd.read_csv('data.csv')"
   ]
  },
  {
   "cell_type": "code",
   "execution_count": 4,
   "metadata": {},
   "outputs": [
    {
     "data": {
      "text/html": [
       "<div>\n",
       "<style>\n",
       "    .dataframe thead tr:only-child th {\n",
       "        text-align: right;\n",
       "    }\n",
       "\n",
       "    .dataframe thead th {\n",
       "        text-align: left;\n",
       "    }\n",
       "\n",
       "    .dataframe tbody tr th {\n",
       "        vertical-align: top;\n",
       "    }\n",
       "</style>\n",
       "<table border=\"1\" class=\"dataframe\">\n",
       "  <thead>\n",
       "    <tr style=\"text-align: right;\">\n",
       "      <th></th>\n",
       "      <th>filename</th>\n",
       "      <th>chroma_stft</th>\n",
       "      <th>rmse</th>\n",
       "      <th>spectral_centroid</th>\n",
       "      <th>spectral_bandwidth</th>\n",
       "      <th>rolloff</th>\n",
       "      <th>zero_crossing_rate</th>\n",
       "      <th>mfcc1</th>\n",
       "      <th>mfcc2</th>\n",
       "      <th>mfcc3</th>\n",
       "      <th>...</th>\n",
       "      <th>mfcc12</th>\n",
       "      <th>mfcc13</th>\n",
       "      <th>mfcc14</th>\n",
       "      <th>mfcc15</th>\n",
       "      <th>mfcc16</th>\n",
       "      <th>mfcc17</th>\n",
       "      <th>mfcc18</th>\n",
       "      <th>mfcc19</th>\n",
       "      <th>mfcc20</th>\n",
       "      <th>label</th>\n",
       "    </tr>\n",
       "  </thead>\n",
       "  <tbody>\n",
       "    <tr>\n",
       "      <th>0</th>\n",
       "      <td>blues.00000.au</td>\n",
       "      <td>0.349943</td>\n",
       "      <td>0.130225</td>\n",
       "      <td>1784.420446</td>\n",
       "      <td>2002.650192</td>\n",
       "      <td>3806.485316</td>\n",
       "      <td>0.083066</td>\n",
       "      <td>-113.596742</td>\n",
       "      <td>121.557302</td>\n",
       "      <td>-19.158825</td>\n",
       "      <td>...</td>\n",
       "      <td>8.810668</td>\n",
       "      <td>-3.667367</td>\n",
       "      <td>5.751690</td>\n",
       "      <td>-5.162761</td>\n",
       "      <td>0.750947</td>\n",
       "      <td>-1.691937</td>\n",
       "      <td>-0.409954</td>\n",
       "      <td>-2.300208</td>\n",
       "      <td>1.219928</td>\n",
       "      <td>blues</td>\n",
       "    </tr>\n",
       "    <tr>\n",
       "      <th>1</th>\n",
       "      <td>blues.00001.au</td>\n",
       "      <td>0.340983</td>\n",
       "      <td>0.095918</td>\n",
       "      <td>1529.835316</td>\n",
       "      <td>2038.617579</td>\n",
       "      <td>3548.820207</td>\n",
       "      <td>0.056044</td>\n",
       "      <td>-207.556796</td>\n",
       "      <td>124.006717</td>\n",
       "      <td>8.930562</td>\n",
       "      <td>...</td>\n",
       "      <td>5.376802</td>\n",
       "      <td>-2.239119</td>\n",
       "      <td>4.216963</td>\n",
       "      <td>-6.012273</td>\n",
       "      <td>0.936109</td>\n",
       "      <td>-0.716537</td>\n",
       "      <td>0.293875</td>\n",
       "      <td>-0.287431</td>\n",
       "      <td>0.531573</td>\n",
       "      <td>blues</td>\n",
       "    </tr>\n",
       "    <tr>\n",
       "      <th>2</th>\n",
       "      <td>blues.00002.au</td>\n",
       "      <td>0.363603</td>\n",
       "      <td>0.175573</td>\n",
       "      <td>1552.481958</td>\n",
       "      <td>1747.165985</td>\n",
       "      <td>3040.514948</td>\n",
       "      <td>0.076301</td>\n",
       "      <td>-90.754394</td>\n",
       "      <td>140.459907</td>\n",
       "      <td>-29.109965</td>\n",
       "      <td>...</td>\n",
       "      <td>5.789265</td>\n",
       "      <td>-8.905224</td>\n",
       "      <td>-1.083720</td>\n",
       "      <td>-9.218359</td>\n",
       "      <td>2.455805</td>\n",
       "      <td>-7.726901</td>\n",
       "      <td>-1.815724</td>\n",
       "      <td>-3.433434</td>\n",
       "      <td>-2.226821</td>\n",
       "      <td>blues</td>\n",
       "    </tr>\n",
       "    <tr>\n",
       "      <th>3</th>\n",
       "      <td>blues.00003.au</td>\n",
       "      <td>0.404779</td>\n",
       "      <td>0.141191</td>\n",
       "      <td>1070.119953</td>\n",
       "      <td>1596.333948</td>\n",
       "      <td>2185.028454</td>\n",
       "      <td>0.033309</td>\n",
       "      <td>-199.431144</td>\n",
       "      <td>150.099218</td>\n",
       "      <td>5.647594</td>\n",
       "      <td>...</td>\n",
       "      <td>6.087676</td>\n",
       "      <td>-2.476420</td>\n",
       "      <td>-1.073890</td>\n",
       "      <td>-2.874777</td>\n",
       "      <td>0.780976</td>\n",
       "      <td>-3.316932</td>\n",
       "      <td>0.637981</td>\n",
       "      <td>-0.619690</td>\n",
       "      <td>-3.408233</td>\n",
       "      <td>blues</td>\n",
       "    </tr>\n",
       "    <tr>\n",
       "      <th>4</th>\n",
       "      <td>blues.00004.au</td>\n",
       "      <td>0.308590</td>\n",
       "      <td>0.091563</td>\n",
       "      <td>1835.494603</td>\n",
       "      <td>1748.362448</td>\n",
       "      <td>3580.945013</td>\n",
       "      <td>0.101500</td>\n",
       "      <td>-160.266031</td>\n",
       "      <td>126.198800</td>\n",
       "      <td>-35.605448</td>\n",
       "      <td>...</td>\n",
       "      <td>-2.806385</td>\n",
       "      <td>-6.934122</td>\n",
       "      <td>-7.558619</td>\n",
       "      <td>-9.173552</td>\n",
       "      <td>-4.512166</td>\n",
       "      <td>-5.453538</td>\n",
       "      <td>-0.924162</td>\n",
       "      <td>-4.409333</td>\n",
       "      <td>-11.703781</td>\n",
       "      <td>blues</td>\n",
       "    </tr>\n",
       "  </tbody>\n",
       "</table>\n",
       "<p>5 rows × 28 columns</p>\n",
       "</div>"
      ],
      "text/plain": [
       "         filename  chroma_stft      rmse  spectral_centroid  \\\n",
       "0  blues.00000.au     0.349943  0.130225        1784.420446   \n",
       "1  blues.00001.au     0.340983  0.095918        1529.835316   \n",
       "2  blues.00002.au     0.363603  0.175573        1552.481958   \n",
       "3  blues.00003.au     0.404779  0.141191        1070.119953   \n",
       "4  blues.00004.au     0.308590  0.091563        1835.494603   \n",
       "\n",
       "   spectral_bandwidth      rolloff  zero_crossing_rate       mfcc1  \\\n",
       "0         2002.650192  3806.485316            0.083066 -113.596742   \n",
       "1         2038.617579  3548.820207            0.056044 -207.556796   \n",
       "2         1747.165985  3040.514948            0.076301  -90.754394   \n",
       "3         1596.333948  2185.028454            0.033309 -199.431144   \n",
       "4         1748.362448  3580.945013            0.101500 -160.266031   \n",
       "\n",
       "        mfcc2      mfcc3  ...      mfcc12    mfcc13    mfcc14    mfcc15  \\\n",
       "0  121.557302 -19.158825  ...    8.810668 -3.667367  5.751690 -5.162761   \n",
       "1  124.006717   8.930562  ...    5.376802 -2.239119  4.216963 -6.012273   \n",
       "2  140.459907 -29.109965  ...    5.789265 -8.905224 -1.083720 -9.218359   \n",
       "3  150.099218   5.647594  ...    6.087676 -2.476420 -1.073890 -2.874777   \n",
       "4  126.198800 -35.605448  ...   -2.806385 -6.934122 -7.558619 -9.173552   \n",
       "\n",
       "     mfcc16    mfcc17    mfcc18    mfcc19     mfcc20  label  \n",
       "0  0.750947 -1.691937 -0.409954 -2.300208   1.219928  blues  \n",
       "1  0.936109 -0.716537  0.293875 -0.287431   0.531573  blues  \n",
       "2  2.455805 -7.726901 -1.815724 -3.433434  -2.226821  blues  \n",
       "3  0.780976 -3.316932  0.637981 -0.619690  -3.408233  blues  \n",
       "4 -4.512166 -5.453538 -0.924162 -4.409333 -11.703781  blues  \n",
       "\n",
       "[5 rows x 28 columns]"
      ]
     },
     "execution_count": 4,
     "metadata": {},
     "output_type": "execute_result"
    }
   ],
   "source": [
    "data.head()"
   ]
  },
  {
   "cell_type": "code",
   "execution_count": 5,
   "metadata": {
    "collapsed": true
   },
   "outputs": [],
   "source": [
    "data = data.drop(['filename'],axis=1)"
   ]
  },
  {
   "cell_type": "markdown",
   "metadata": {},
   "source": [
    "## Encoding Labels"
   ]
  },
  {
   "cell_type": "code",
   "execution_count": 6,
   "metadata": {
    "collapsed": true
   },
   "outputs": [],
   "source": [
    "from sklearn.preprocessing import LabelEncoder, StandardScaler"
   ]
  },
  {
   "cell_type": "code",
   "execution_count": 7,
   "metadata": {
    "collapsed": true
   },
   "outputs": [],
   "source": [
    "genre_list = data.iloc[:,-1]\n",
    "encoder = LabelEncoder()\n",
    "y = encoder.fit_transform(genre_list)"
   ]
  },
  {
   "cell_type": "code",
   "execution_count": 8,
   "metadata": {
    "collapsed": true
   },
   "outputs": [],
   "source": [
    "#Scaling the feature columns\n",
    "scaler = StandardScaler()\n",
    "X = scaler.fit_transform(np.array(data.iloc[:, :-1],dtype = float))"
   ]
  },
  {
   "cell_type": "markdown",
   "metadata": {},
   "source": [
    "## Train Test Split"
   ]
  },
  {
   "cell_type": "code",
   "execution_count": 9,
   "metadata": {
    "collapsed": true
   },
   "outputs": [],
   "source": [
    "from sklearn.model_selection import train_test_split\n",
    "X_train, X_test, y_train, y_test = train_test_split(X, y, test_size=0.2)"
   ]
  },
  {
   "cell_type": "code",
   "execution_count": 10,
   "metadata": {},
   "outputs": [
    {
     "data": {
      "text/plain": [
       "800"
      ]
     },
     "execution_count": 10,
     "metadata": {},
     "output_type": "execute_result"
    }
   ],
   "source": [
    "len(X_train)"
   ]
  },
  {
   "cell_type": "code",
   "execution_count": 11,
   "metadata": {},
   "outputs": [
    {
     "data": {
      "text/plain": [
       "array([ 0.20414156, -0.21833446, -0.59198934, -0.13033398, -0.47654085,\n",
       "       -1.02162458, -0.07265874,  0.17783521,  0.12677142,  0.69989292,\n",
       "        1.02246769,  0.03857519,  1.68735339, -0.33537638,  1.66870645,\n",
       "       -0.67140849,  0.73236034, -0.69854076,  0.67379101, -1.16092723,\n",
       "        0.44096308, -0.39685095, -0.66228564, -0.75926104,  0.30637607,\n",
       "       -0.70824748])"
      ]
     },
     "execution_count": 11,
     "metadata": {},
     "output_type": "execute_result"
    }
   ],
   "source": [
    "X_train[10]"
   ]
  },
  {
   "cell_type": "markdown",
   "metadata": {},
   "source": [
    "## Model"
   ]
  },
  {
   "cell_type": "code",
   "execution_count": 12,
   "metadata": {},
   "outputs": [
    {
     "name": "stderr",
     "output_type": "stream",
     "text": [
      "Using TensorFlow backend.\n"
     ]
    }
   ],
   "source": [
    "import keras"
   ]
  },
  {
   "cell_type": "code",
   "execution_count": 14,
   "metadata": {
    "collapsed": true
   },
   "outputs": [],
   "source": [
    "from keras import models\n",
    "from keras import layers"
   ]
  },
  {
   "cell_type": "code",
   "execution_count": 15,
   "metadata": {
    "collapsed": true
   },
   "outputs": [],
   "source": [
    "model = models.Sequential()\n",
    "model.add(layers.Dense(256,activation='relu', input_shape=(X_train.shape[1],)))\n",
    "\n",
    "model.add(layers.Dense(128, activation='relu'))\n",
    "\n",
    "model.add(layers.Dense(64, activation='relu'))\n",
    "\n",
    "model.add(layers.Dense(10, activation='softmax'))"
   ]
  },
  {
   "cell_type": "code",
   "execution_count": 16,
   "metadata": {
    "collapsed": true
   },
   "outputs": [],
   "source": [
    "model.compile(optimizer='adam', loss='sparse_categorical_crossentropy', metrics=['accuracy'])"
   ]
  },
  {
   "cell_type": "code",
   "execution_count": 17,
   "metadata": {},
   "outputs": [
    {
     "name": "stdout",
     "output_type": "stream",
     "text": [
      "Epoch 1/20\n",
      "800/800 [==============================] - 0s 436us/step - loss: 2.1514 - acc: 0.2387\n",
      "Epoch 2/20\n",
      "800/800 [==============================] - 0s 22us/step - loss: 1.8374 - acc: 0.3337\n",
      "Epoch 3/20\n",
      "800/800 [==============================] - 0s 19us/step - loss: 1.6317 - acc: 0.4238\n",
      "Epoch 4/20\n",
      "800/800 [==============================] - 0s 20us/step - loss: 1.4642 - acc: 0.4925\n",
      "Epoch 5/20\n",
      "800/800 [==============================] - 0s 20us/step - loss: 1.3335 - acc: 0.5250\n",
      "Epoch 6/20\n",
      "800/800 [==============================] - 0s 19us/step - loss: 1.2186 - acc: 0.5925\n",
      "Epoch 7/20\n",
      "800/800 [==============================] - 0s 20us/step - loss: 1.1294 - acc: 0.6187\n",
      "Epoch 8/20\n",
      "800/800 [==============================] - 0s 22us/step - loss: 1.0442 - acc: 0.6600\n",
      "Epoch 9/20\n",
      "800/800 [==============================] - 0s 20us/step - loss: 0.9829 - acc: 0.6763\n",
      "Epoch 10/20\n",
      "800/800 [==============================] - 0s 19us/step - loss: 0.9177 - acc: 0.6950\n",
      "Epoch 11/20\n",
      "800/800 [==============================] - 0s 21us/step - loss: 0.8637 - acc: 0.7213\n",
      "Epoch 12/20\n",
      "800/800 [==============================] - 0s 17us/step - loss: 0.8118 - acc: 0.7325\n",
      "Epoch 13/20\n",
      "800/800 [==============================] - 0s 19us/step - loss: 0.7750 - acc: 0.7563\n",
      "Epoch 14/20\n",
      "800/800 [==============================] - 0s 21us/step - loss: 0.7251 - acc: 0.7600\n",
      "Epoch 15/20\n",
      "800/800 [==============================] - 0s 20us/step - loss: 0.7000 - acc: 0.7775\n",
      "Epoch 16/20\n",
      "800/800 [==============================] - 0s 20us/step - loss: 0.6628 - acc: 0.8000\n",
      "Epoch 17/20\n",
      "800/800 [==============================] - 0s 19us/step - loss: 0.6386 - acc: 0.7888\n",
      "Epoch 18/20\n",
      "800/800 [==============================] - 0s 20us/step - loss: 0.5946 - acc: 0.8212\n",
      "Epoch 19/20\n",
      "800/800 [==============================] - 0s 20us/step - loss: 0.5715 - acc: 0.8137\n",
      "Epoch 20/20\n",
      "800/800 [==============================] - 0s 17us/step - loss: 0.5449 - acc: 0.8275\n"
     ]
    }
   ],
   "source": [
    "history = model.fit(X_train, y_train, epochs=20, batch_size=128)"
   ]
  },
  {
   "cell_type": "code",
   "execution_count": 18,
   "metadata": {},
   "outputs": [
    {
     "name": "stdout",
     "output_type": "stream",
     "text": [
      "200/200 [==============================] - 0s 189us/step\n"
     ]
    }
   ],
   "source": [
    "test_loss, test_accuracy = model.evaluate(X_test, y_test)"
   ]
  },
  {
   "cell_type": "code",
   "execution_count": 19,
   "metadata": {},
   "outputs": [
    {
     "name": "stdout",
     "output_type": "stream",
     "text": [
      "test_accuracy 0.665\n"
     ]
    }
   ],
   "source": [
    "print('test_accuracy',test_accuracy)"
   ]
  },
  {
   "cell_type": "code",
   "execution_count": 20,
   "metadata": {
    "collapsed": true
   },
   "outputs": [],
   "source": [
    "#Validation\n",
    "x_val = X_train[:200]\n",
    "partial_x_train = X_train[200:]\n",
    "\n",
    "y_val = y_train[:200]\n",
    "partial_y_train = y_train[200:]"
   ]
  },
  {
   "cell_type": "code",
   "execution_count": 21,
   "metadata": {},
   "outputs": [
    {
     "name": "stdout",
     "output_type": "stream",
     "text": [
      "Train on 600 samples, validate on 200 samples\n",
      "Epoch 1/30\n",
      "600/600 [==============================] - 0s 467us/step - loss: 2.2935 - acc: 0.1383 - val_loss: 2.1827 - val_acc: 0.2850\n",
      "Epoch 2/30\n",
      "600/600 [==============================] - 0s 32us/step - loss: 2.1090 - acc: 0.3783 - val_loss: 2.0760 - val_acc: 0.3000\n",
      "Epoch 3/30\n",
      "600/600 [==============================] - 0s 35us/step - loss: 1.9550 - acc: 0.3850 - val_loss: 1.9777 - val_acc: 0.3150\n",
      "Epoch 4/30\n",
      "600/600 [==============================] - 0s 32us/step - loss: 1.8170 - acc: 0.3950 - val_loss: 1.8691 - val_acc: 0.3300\n",
      "Epoch 5/30\n",
      "600/600 [==============================] - 0s 32us/step - loss: 1.6782 - acc: 0.4333 - val_loss: 1.7406 - val_acc: 0.3500\n",
      "Epoch 6/30\n",
      "600/600 [==============================] - 0s 35us/step - loss: 1.5508 - acc: 0.4800 - val_loss: 1.6278 - val_acc: 0.4050\n",
      "Epoch 7/30\n",
      "600/600 [==============================] - 0s 33us/step - loss: 1.4430 - acc: 0.5300 - val_loss: 1.5342 - val_acc: 0.4500\n",
      "Epoch 8/30\n",
      "600/600 [==============================] - 0s 33us/step - loss: 1.3333 - acc: 0.5867 - val_loss: 1.4883 - val_acc: 0.4450\n",
      "Epoch 9/30\n",
      "600/600 [==============================] - 0s 32us/step - loss: 1.2542 - acc: 0.5800 - val_loss: 1.4510 - val_acc: 0.4700\n",
      "Epoch 10/30\n",
      "600/600 [==============================] - 0s 35us/step - loss: 1.1917 - acc: 0.6050 - val_loss: 1.4024 - val_acc: 0.4650\n",
      "Epoch 11/30\n",
      "600/600 [==============================] - 0s 32us/step - loss: 1.1171 - acc: 0.6333 - val_loss: 1.3619 - val_acc: 0.4750\n",
      "Epoch 12/30\n",
      "600/600 [==============================] - 0s 35us/step - loss: 1.0602 - acc: 0.6517 - val_loss: 1.3240 - val_acc: 0.4850\n",
      "Epoch 13/30\n",
      "600/600 [==============================] - 0s 28us/step - loss: 1.0127 - acc: 0.6600 - val_loss: 1.2802 - val_acc: 0.5200\n",
      "Epoch 14/30\n",
      "600/600 [==============================] - 0s 35us/step - loss: 0.9597 - acc: 0.7017 - val_loss: 1.2521 - val_acc: 0.5400\n",
      "Epoch 15/30\n",
      "600/600 [==============================] - 0s 35us/step - loss: 0.9129 - acc: 0.7183 - val_loss: 1.2733 - val_acc: 0.5500\n",
      "Epoch 16/30\n",
      "600/600 [==============================] - 0s 28us/step - loss: 0.8817 - acc: 0.7117 - val_loss: 1.2659 - val_acc: 0.5250\n",
      "Epoch 17/30\n",
      "600/600 [==============================] - 0s 35us/step - loss: 0.8312 - acc: 0.7300 - val_loss: 1.2842 - val_acc: 0.5300\n",
      "Epoch 18/30\n",
      "600/600 [==============================] - 0s 33us/step - loss: 0.8111 - acc: 0.7533 - val_loss: 1.2478 - val_acc: 0.5600\n",
      "Epoch 19/30\n",
      "600/600 [==============================] - 0s 38us/step - loss: 0.7747 - acc: 0.7433 - val_loss: 1.2233 - val_acc: 0.5700\n",
      "Epoch 20/30\n",
      "600/600 [==============================] - 0s 35us/step - loss: 0.7504 - acc: 0.7567 - val_loss: 1.2158 - val_acc: 0.5800\n",
      "Epoch 21/30\n",
      "600/600 [==============================] - 0s 35us/step - loss: 0.7188 - acc: 0.7600 - val_loss: 1.2091 - val_acc: 0.5950\n",
      "Epoch 22/30\n",
      "600/600 [==============================] - 0s 32us/step - loss: 0.6814 - acc: 0.7683 - val_loss: 1.2438 - val_acc: 0.5650\n",
      "Epoch 23/30\n",
      "600/600 [==============================] - 0s 30us/step - loss: 0.6882 - acc: 0.7583 - val_loss: 1.2378 - val_acc: 0.5900\n",
      "Epoch 24/30\n",
      "600/600 [==============================] - 0s 33us/step - loss: 0.6482 - acc: 0.7750 - val_loss: 1.2361 - val_acc: 0.5500\n",
      "Epoch 25/30\n",
      "600/600 [==============================] - 0s 30us/step - loss: 0.6181 - acc: 0.8000 - val_loss: 1.2041 - val_acc: 0.5750\n",
      "Epoch 26/30\n",
      "600/600 [==============================] - 0s 33us/step - loss: 0.5920 - acc: 0.8117 - val_loss: 1.1801 - val_acc: 0.5900\n",
      "Epoch 27/30\n",
      "600/600 [==============================] - 0s 32us/step - loss: 0.5731 - acc: 0.8100 - val_loss: 1.1891 - val_acc: 0.5800\n",
      "Epoch 28/30\n",
      "600/600 [==============================] - 0s 32us/step - loss: 0.5429 - acc: 0.8083 - val_loss: 1.2234 - val_acc: 0.5600\n",
      "Epoch 29/30\n",
      "600/600 [==============================] - 0s 30us/step - loss: 0.5193 - acc: 0.8283 - val_loss: 1.2424 - val_acc: 0.5700\n",
      "Epoch 30/30\n",
      "600/600 [==============================] - 0s 33us/step - loss: 0.5056 - acc: 0.8400 - val_loss: 1.1993 - val_acc: 0.6250\n",
      "200/200 [==============================] - 0s 30us/step\n"
     ]
    }
   ],
   "source": [
    "model = models.Sequential()\n",
    "model.add(layers.Dense(512, activation='relu', input_shape=(X_train.shape[1],)))\n",
    "model.add(layers.Dense(256, activation='relu'))\n",
    "model.add(layers.Dense(128, activation='relu'))\n",
    "model.add(layers.Dense(64, activation='relu'))\n",
    "model.add(layers.Dense(10, activation='softmax'))\n",
    "\n",
    "model.compile(optimizer='adam',\n",
    "              loss='sparse_categorical_crossentropy',\n",
    "              metrics=['accuracy'])\n",
    "\n",
    "model.fit(partial_x_train,\n",
    "          partial_y_train,\n",
    "          epochs=30,\n",
    "          batch_size=512,\n",
    "          validation_data=(x_val, y_val))\n",
    "results = model.evaluate(X_test, y_test)"
   ]
  },
  {
   "cell_type": "code",
   "execution_count": 22,
   "metadata": {},
   "outputs": [
    {
     "data": {
      "text/plain": [
       "[1.0787119102478027, 0.64]"
      ]
     },
     "execution_count": 22,
     "metadata": {},
     "output_type": "execute_result"
    }
   ],
   "source": [
    "results"
   ]
  },
  {
   "cell_type": "code",
   "execution_count": 23,
   "metadata": {
    "collapsed": true
   },
   "outputs": [],
   "source": [
    "#Predictions\n",
    "predictions = model.predict(X_test)"
   ]
  },
  {
   "cell_type": "code",
   "execution_count": 24,
   "metadata": {},
   "outputs": [
    {
     "data": {
      "text/plain": [
       "(10,)"
      ]
     },
     "execution_count": 24,
     "metadata": {},
     "output_type": "execute_result"
    }
   ],
   "source": [
    "predictions[0].shape"
   ]
  },
  {
   "cell_type": "code",
   "execution_count": 25,
   "metadata": {},
   "outputs": [
    {
     "data": {
      "text/plain": [
       "0.9999999"
      ]
     },
     "execution_count": 25,
     "metadata": {},
     "output_type": "execute_result"
    }
   ],
   "source": [
    "np.sum(predictions[0])"
   ]
  },
  {
   "cell_type": "code",
   "execution_count": null,
   "metadata": {
    "collapsed": true
   },
   "outputs": [],
   "source": []
  }
 ],
 "metadata": {
  "kernelspec": {
   "display_name": "Python 3",
   "language": "python",
   "name": "python3"
  },
  "language_info": {
   "codemirror_mode": {
    "name": "ipython",
    "version": 3
   },
   "file_extension": ".py",
   "mimetype": "text/x-python",
   "name": "python",
   "nbconvert_exporter": "python",
   "pygments_lexer": "ipython3",
   "version": "3.7.1"
  },
  "varInspector": {
   "cols": {
    "lenName": 16,
    "lenType": 16,
    "lenVar": 40
   },
   "kernels_config": {
    "python": {
     "delete_cmd_postfix": "",
     "delete_cmd_prefix": "del ",
     "library": "var_list.py",
     "varRefreshCmd": "print(var_dic_list())"
    },
    "r": {
     "delete_cmd_postfix": ") ",
     "delete_cmd_prefix": "rm(",
     "library": "var_list.r",
     "varRefreshCmd": "cat(var_dic_list()) "
    }
   },
   "types_to_exclude": [
    "module",
    "function",
    "builtin_function_or_method",
    "instance",
    "_Feature"
   ],
   "window_display": false
  }
 },
 "nbformat": 4,
 "nbformat_minor": 2
}
